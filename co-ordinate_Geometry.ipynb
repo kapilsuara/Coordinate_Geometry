{
 "cells": [
  {
   "cell_type": "markdown",
   "metadata": {},
   "source": [
    "JAI SHREE GANESHA NAMAY "
   ]
  },
  {
   "cell_type": "code",
   "execution_count": 7,
   "metadata": {},
   "outputs": [
    {
     "name": "stdout",
     "output_type": "stream",
     "text": [
      "What do you have?\n",
      "1: Two Points\n",
      "2: One Point with Slope\n",
      "3: One Point with Intercept \n",
      "4: Slope and Intercept Form\n",
      "Enter coordinates of two points in this manner: x1 y1 x2 y2\n",
      "The line passing through the points is: 3.0x + 4.0y = 12.0\n"
     ]
    }
   ],
   "source": [
    "import math\n",
    "\n",
    "class Line:\n",
    "    def __init__(self):\n",
    "        self.get_task()\n",
    "    \n",
    "    def get_task(self):\n",
    "        print(\"What do you have?\\n1: Two Points\\n2: One Point with Slope\\n3: One Point with Intercept \\n4: Slope and Intercept Form\")\n",
    "        try:\n",
    "            task = int(input(\"Select an option (1, 2, 3, or 4): \"))\n",
    "            if task == 1:\n",
    "                self.two_points()\n",
    "            elif task == 2:\n",
    "                self.point_and_slope()\n",
    "            elif task == 3:\n",
    "                self.point_and_intercept()\n",
    "            elif task == 4:\n",
    "                self.slope_and_intercept()\n",
    "            else:\n",
    "                print(\"Invalid input. Please select a valid option.\")\n",
    "        except ValueError:\n",
    "            print(\"Invalid input. Please enter a number.\")\n",
    "    \n",
    "    def two_points(self, x1=None, y1=None, x2=None, y2=None):\n",
    "        try:\n",
    "            if None in (x1, y1, x2, y2):\n",
    "                print(\"Enter coordinates of two points in this manner: x1 y1 x2 y2\")\n",
    "                x1, y1, x2, y2 = map(float, input().split())\n",
    "            \n",
    "            # Calculate the line equation ax + by = c\n",
    "            a = y2 - y1\n",
    "            b = x1 - x2  # Use -b instead of b to ensure consistency with common line equation form\n",
    "            c = a * x1 + b * y1  # Corrected for the general form ax + by = c\n",
    "\n",
    "            if b == 0:  # Vertical line\n",
    "                print(f\"The line passing through the points is: x = {x1}\")\n",
    "            elif a == 0:  # Horizontal line\n",
    "                print(f\"The line passing through the points is: y = {y1}\")\n",
    "            else:\n",
    "                if b < 0:\n",
    "                    print(f\"The line passing through the points is: {a}x - {-b}y = {c}\")\n",
    "                else:\n",
    "                    print(f\"The line passing through the points is: {a}x + {b}y = {c}\")\n",
    "        except ValueError:\n",
    "            print(\"Invalid input. Please enter valid coordinates.\")\n",
    "    \n",
    "    def point_and_slope(self, m=None, x=None, y=None):\n",
    "        try:\n",
    "            if m is None and x is None and y is None:\n",
    "                m = float(input(\"Enter the slope: \"))\n",
    "                print(\"Enter a point in this manner: x y\")\n",
    "                x, y = map(float, input().split())\n",
    "            \n",
    "            c = y - m * x\n",
    "            \n",
    "            print(f\"The line equation is: y = {m}x + {c}\")\n",
    "        except ValueError:\n",
    "            print(\"Invalid input. Please enter a valid number.\")\n",
    "    \n",
    "    def point_and_intercept(self, c=None, x=None, y=None):\n",
    "        try:\n",
    "            if c is None and x is None and y is None:\n",
    "                c = float(input(\"Enter the y-intercept: \"))\n",
    "                print(\"Enter a point in this manner: x y\")\n",
    "                x, y = map(float, input().split())\n",
    "            \n",
    "            self.two_points(0, c, x, y)\n",
    "                \n",
    "        except ValueError:\n",
    "            print(\"Invalid input. Please enter valid numbers.\")\n",
    "            \n",
    "    def slope_and_intercept(self, m=None, c=None):\n",
    "        try:\n",
    "            if m is None and c is None:\n",
    "                m = float(input(\"Enter the slope (m): \"))\n",
    "                c = float(input(\"Enter the y-intercept (c): \"))\n",
    "            \n",
    "            print(f\"The line equation is: y = {m}x + {c}\")\n",
    "                \n",
    "        except ValueError:\n",
    "            print(\"Invalid input. Please enter valid numbers.\")\n",
    "            \n",
    "\n",
    "# Example usage:\n",
    "line = Line()\n"
   ]
  },
  {
   "cell_type": "code",
   "execution_count": 3,
   "metadata": {},
   "outputs": [
    {
     "name": "stdout",
     "output_type": "stream",
     "text": [
      "Enter coordinates of two points in this manner: x1 y1 x2 y2\n",
      "The line passing through the points is: -3x - 2y = 6\n"
     ]
    }
   ],
   "source": [
    "line.two_points()"
   ]
  }
 ],
 "metadata": {
  "kernelspec": {
   "display_name": "Python 3",
   "language": "python",
   "name": "python3"
  },
  "language_info": {
   "codemirror_mode": {
    "name": "ipython",
    "version": 3
   },
   "file_extension": ".py",
   "mimetype": "text/x-python",
   "name": "python",
   "nbconvert_exporter": "python",
   "pygments_lexer": "ipython3",
   "version": "3.12.0"
  }
 },
 "nbformat": 4,
 "nbformat_minor": 2
}
